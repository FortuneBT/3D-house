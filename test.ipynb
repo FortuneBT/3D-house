{
 "cells": [
  {
   "cell_type": "code",
   "execution_count": 19,
   "metadata": {},
   "outputs": [],
   "source": [
    "import multiprocessing\n",
    "import rasterio as rio\n",
    "from typing import List\n",
    "import pandas as pd\n",
    "import geopandas as gpd\n",
    "import numpy as np\n",
    "from Utils.coord import Coord \n",
    "from Utils.myJson import myJson\n",
    "from Utils.front import Front\n",
    "from Utils.box import Box\n",
    "import multiprocessing\n",
    "import threading\n",
    "from rasterio.crs import CRS\n",
    "from rasterio.transform import from_origin\n",
    "from rasterio.windows import Window"
   ]
  },
  {
   "cell_type": "code",
   "execution_count": 27,
   "metadata": {},
   "outputs": [],
   "source": [
    "pathDSM = \"zip+file:..///Regions-Brux-Fland/DHMVIIDSMRAS1m_k05.zip!/GeoTIFF/DHMVIIDSMRAS1m_k05.tif\""
   ]
  },
  {
   "cell_type": "code",
   "execution_count": 2,
   "metadata": {},
   "outputs": [],
   "source": [
    "#source = rio.open(pathDSM)\n",
    "\n"
   ]
  },
  {
   "cell_type": "code",
   "execution_count": 28,
   "metadata": {},
   "outputs": [],
   "source": [
    "with rio.open(pathDSM) as source:\n",
    "                #mydata = source.read(1, window=Window(source.bounds[0] + 10000, source.bounds[1] - 50000, 1000, 1000))\n",
    "                window = rio.windows.from_bounds(-150, 40, -45, 90, transform=source.transform)\n",
    "                mydata = source.read(window=window)\n"
   ]
  },
  {
   "cell_type": "code",
   "execution_count": 29,
   "metadata": {},
   "outputs": [
    {
     "data": {
      "text/plain": [
       "array([], shape=(1, 0, 0), dtype=float32)"
      ]
     },
     "execution_count": 29,
     "metadata": {},
     "output_type": "execute_result"
    }
   ],
   "source": [
    "mydata"
   ]
  },
  {
   "cell_type": "code",
   "execution_count": 30,
   "metadata": {},
   "outputs": [
    {
     "data": {
      "text/plain": [
       "BoundingBox(left=66000.0, bottom=218000.0, right=98000.0, top=232000.0)"
      ]
     },
     "execution_count": 30,
     "metadata": {},
     "output_type": "execute_result"
    }
   ],
   "source": [
    "source.bounds "
   ]
  },
  {
   "cell_type": "code",
   "execution_count": null,
   "metadata": {},
   "outputs": [],
   "source": []
  },
  {
   "cell_type": "code",
   "execution_count": 18,
   "metadata": {},
   "outputs": [
    {
     "ename": "TypeError",
     "evalue": "'BoundingBox' object does not support item assignment",
     "output_type": "error",
     "traceback": [
      "\u001b[0;31m---------------------------------------------------------------------------\u001b[0m",
      "\u001b[0;31mTypeError\u001b[0m                                 Traceback (most recent call last)",
      "\u001b[1;32m/home/becode2/Python/Projets/MyHouse/test.ipynb Cell 6'\u001b[0m in \u001b[0;36m<cell line: 1>\u001b[0;34m()\u001b[0m\n\u001b[0;32m----> <a href='vscode-notebook-cell:/home/becode2/Python/Projets/MyHouse/test.ipynb#ch0000013?line=0'>1</a>\u001b[0m source\u001b[39m.\u001b[39mbounds[\u001b[39m0\u001b[39m] \u001b[39m=\u001b[39m source\u001b[39m.\u001b[39mbounds[\u001b[39m0\u001b[39m] \u001b[39m+\u001b[39m \u001b[39m10000\u001b[39m\n\u001b[1;32m      <a href='vscode-notebook-cell:/home/becode2/Python/Projets/MyHouse/test.ipynb#ch0000013?line=1'>2</a>\u001b[0m source\u001b[39m.\u001b[39mbounds[\u001b[39m1\u001b[39m] \u001b[39m=\u001b[39m source\u001b[39m.\u001b[39mbounds[\u001b[39m1\u001b[39m] \u001b[39m+\u001b[39m \u001b[39m50000\u001b[39m\n\u001b[1;32m      <a href='vscode-notebook-cell:/home/becode2/Python/Projets/MyHouse/test.ipynb#ch0000013?line=2'>3</a>\u001b[0m source\u001b[39m.\u001b[39mbounds[\u001b[39m2\u001b[39m] \u001b[39m=\u001b[39m source\u001b[39m.\u001b[39mbounds[\u001b[39m2\u001b[39m] \u001b[39m-\u001b[39m \u001b[39m10000\u001b[39m\n",
      "\u001b[0;31mTypeError\u001b[0m: 'BoundingBox' object does not support item assignment"
     ]
    }
   ],
   "source": [
    "source.bounds[0] = source.bounds[0] + 10000\n",
    "source.bounds[1] = source.bounds[1] + 50000\n",
    "source.bounds[2] = source.bounds[2] - 10000\n",
    "source.bounds[3] = source.bounds[3] - 50000"
   ]
  },
  {
   "cell_type": "code",
   "execution_count": 31,
   "metadata": {},
   "outputs": [
    {
     "data": {
      "text/plain": [
       "{'driver': 'GTiff',\n",
       " 'dtype': 'float32',\n",
       " 'nodata': -9999.0,\n",
       " 'width': 32000,\n",
       " 'height': 14000,\n",
       " 'count': 1,\n",
       " 'crs': CRS.from_epsg(31370),\n",
       " 'transform': Affine(1.0, 0.0, 66000.0,\n",
       "        0.0, -1.0, 232000.0)}"
      ]
     },
     "execution_count": 31,
     "metadata": {},
     "output_type": "execute_result"
    }
   ],
   "source": [
    "source.meta"
   ]
  },
  {
   "cell_type": "code",
   "execution_count": 32,
   "metadata": {},
   "outputs": [],
   "source": [
    "mymeta = source.meta"
   ]
  },
  {
   "cell_type": "code",
   "execution_count": 4,
   "metadata": {},
   "outputs": [
    {
     "data": {
      "text/plain": [
       "{'driver': 'GTiff',\n",
       " 'dtype': 'float32',\n",
       " 'nodata': -9999.0,\n",
       " 'width': 32000,\n",
       " 'height': 14000,\n",
       " 'count': 1,\n",
       " 'crs': CRS.from_epsg(31370),\n",
       " 'transform': Affine(1.0, 0.0, 66000.0,\n",
       "        0.0, -1.0, 232000.0)}"
      ]
     },
     "execution_count": 4,
     "metadata": {},
     "output_type": "execute_result"
    }
   ],
   "source": [
    "mymeta"
   ]
  },
  {
   "cell_type": "code",
   "execution_count": 33,
   "metadata": {},
   "outputs": [
    {
     "ename": "RasterioIOError",
     "evalue": "Dataset is closed: zip+file://..///Regions-Brux-Fland/DHMVIIDSMRAS1m_k05.zip!/GeoTIFF/DHMVIIDSMRAS1m_k05.tif",
     "output_type": "error",
     "traceback": [
      "\u001b[0;31m---------------------------------------------------------------------------\u001b[0m",
      "\u001b[0;31mRasterioIOError\u001b[0m                           Traceback (most recent call last)",
      "\u001b[1;32m/home/becode2/Python/Projets/MyHouse/test.ipynb Cell 12'\u001b[0m in \u001b[0;36m<cell line: 1>\u001b[0;34m()\u001b[0m\n\u001b[0;32m----> <a href='vscode-notebook-cell:/home/becode2/Python/Projets/MyHouse/test.ipynb#ch0000004?line=0'>1</a>\u001b[0m mydata \u001b[39m=\u001b[39m source\u001b[39m.\u001b[39;49mread()\n",
      "File \u001b[0;32mrasterio/_io.pyx:355\u001b[0m, in \u001b[0;36mrasterio._io.DatasetReaderBase.read\u001b[0;34m()\u001b[0m\n",
      "File \u001b[0;32mrasterio/_base.pyx:591\u001b[0m, in \u001b[0;36mrasterio._base.DatasetBase.mask_flag_enums.__get__\u001b[0;34m()\u001b[0m\n",
      "File \u001b[0;32mrasterio/_base.pyx:593\u001b[0m, in \u001b[0;36mgenexpr\u001b[0;34m()\u001b[0m\n",
      "File \u001b[0;32mrasterio/_base.pyx:558\u001b[0m, in \u001b[0;36mgenexpr\u001b[0;34m()\u001b[0m\n",
      "File \u001b[0;32mrasterio/_base.pyx:558\u001b[0m, in \u001b[0;36mgenexpr\u001b[0;34m()\u001b[0m\n",
      "File \u001b[0;32mrasterio/_base.pyx:314\u001b[0m, in \u001b[0;36mrasterio._base.DatasetBase.band\u001b[0;34m()\u001b[0m\n",
      "File \u001b[0;32mrasterio/_base.pyx:307\u001b[0m, in \u001b[0;36mrasterio._base.DatasetBase.handle\u001b[0;34m()\u001b[0m\n",
      "\u001b[0;31mRasterioIOError\u001b[0m: Dataset is closed: zip+file://..///Regions-Brux-Fland/DHMVIIDSMRAS1m_k05.zip!/GeoTIFF/DHMVIIDSMRAS1m_k05.tif"
     ]
    }
   ],
   "source": [
    "mydata = source.read()"
   ]
  },
  {
   "cell_type": "code",
   "execution_count": 37,
   "metadata": {},
   "outputs": [
    {
     "data": {
      "text/plain": [
       "array([], shape=(1, 0, 0), dtype=float32)"
      ]
     },
     "execution_count": 37,
     "metadata": {},
     "output_type": "execute_result"
    }
   ],
   "source": [
    "mydata"
   ]
  },
  {
   "cell_type": "code",
   "execution_count": 38,
   "metadata": {},
   "outputs": [
    {
     "data": {
      "text/plain": [
       "'GTiff'"
      ]
     },
     "execution_count": 38,
     "metadata": {},
     "output_type": "execute_result"
    }
   ],
   "source": [
    "mymeta[\"driver\"]"
   ]
  },
  {
   "cell_type": "code",
   "execution_count": 39,
   "metadata": {},
   "outputs": [
    {
     "data": {
      "text/plain": [
       "Affine(1.0, 0.0, 66000.0,\n",
       "       0.0, -1.0, 232000.0)"
      ]
     },
     "execution_count": 39,
     "metadata": {},
     "output_type": "execute_result"
    }
   ],
   "source": [
    "mymeta[\"transform\"]"
   ]
  },
  {
   "cell_type": "code",
   "execution_count": null,
   "metadata": {},
   "outputs": [],
   "source": []
  }
 ],
 "metadata": {
  "interpreter": {
   "hash": "9ad90fd0b34a994cb4884990b7abf3be730ac9e06bce1100d01d5b1f25e778fc"
  },
  "kernelspec": {
   "display_name": "Python 3.8.10 ('env': venv)",
   "language": "python",
   "name": "python3"
  },
  "language_info": {
   "codemirror_mode": {
    "name": "ipython",
    "version": 3
   },
   "file_extension": ".py",
   "mimetype": "text/x-python",
   "name": "python",
   "nbconvert_exporter": "python",
   "pygments_lexer": "ipython3",
   "version": "3.8.10"
  },
  "orig_nbformat": 4
 },
 "nbformat": 4,
 "nbformat_minor": 2
}
